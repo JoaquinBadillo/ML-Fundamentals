{
 "cells": [
  {
   "cell_type": "markdown",
   "id": "d6ce52f0",
   "metadata": {},
   "source": [
    "# Newton's Method\n",
    "\n",
    "Newton's method allows us to find roots of functions if we can calculate the value of the function and its derivative around the root.\n",
    "\n",
    "For a differentiable function $f:X\\subseteq\\mathbb{R} \\rightarrow Y\\subseteq\\mathbb{R}$ and an initial guess of the root $x_{0}$, Newton's method allows us to improve our approximation of the root following the iterative rule:\n",
    "\n",
    "$$x_{n+1} = x_{n} - \\frac{f(x_{n})}{f'(x_{n})}$$"
   ]
  },
  {
   "cell_type": "code",
   "execution_count": 1,
   "id": "0080a04d",
   "metadata": {},
   "outputs": [],
   "source": [
    "import pandas as pd"
   ]
  },
  {
   "cell_type": "code",
   "execution_count": 2,
   "id": "dff6a124",
   "metadata": {},
   "outputs": [],
   "source": [
    "def NewtonMethod(f, df, x0, i):\n",
    "    x = x0\n",
    "    table = {\"x\":[x],\n",
    "         \"f(x)\":[f(x)]\n",
    "        }\n",
    "    for i in range(i):\n",
    "        x = x - f(x) / df(x)\n",
    "        table[\"x\"].append(x)\n",
    "        table[\"f(x)\"].append(f(x))\n",
    "\n",
    "    return pd.DataFrame(table, columns=[\"x\", \"f(x)\"])"
   ]
  },
  {
   "cell_type": "markdown",
   "id": "24a52d04",
   "metadata": {},
   "source": [
    "## Test\n",
    "\n",
    "Now, let's use Newton's method to approximate the value of $\\sqrt{2}$. In order to do so we can write an equation in terms of $x$ such that $x = \\sqrt{2}$, so that we are able to calculate its value with arbitrary precision. The most obvious one that comes to mind is the equation $x^{2} = 2$ and since Newton's method finds roots of functions we can write the previous equation as $x^{2}-2=0$; which is equivalent to finding the roots of $f(x)=x^{2}-2$. This function has 2 roots, but we are only interested in the positive value $\\sqrt{2}$.\n",
    "\n",
    "Since f(2) > 0, f(1) < 0 and $f(x)$ is continuous, the root $r$ must be in between 2 and 1. Let's use 1.5 as an initial guess and 7 iterations of the method: "
   ]
  },
  {
   "cell_type": "code",
   "execution_count": 3,
   "id": "29bdf34b",
   "metadata": {},
   "outputs": [
    {
     "data": {
      "text/html": [
       "<div>\n",
       "<style scoped>\n",
       "    .dataframe tbody tr th:only-of-type {\n",
       "        vertical-align: middle;\n",
       "    }\n",
       "\n",
       "    .dataframe tbody tr th {\n",
       "        vertical-align: top;\n",
       "    }\n",
       "\n",
       "    .dataframe thead th {\n",
       "        text-align: right;\n",
       "    }\n",
       "</style>\n",
       "<table border=\"1\" class=\"dataframe\">\n",
       "  <thead>\n",
       "    <tr style=\"text-align: right;\">\n",
       "      <th></th>\n",
       "      <th>x</th>\n",
       "      <th>f(x)</th>\n",
       "    </tr>\n",
       "  </thead>\n",
       "  <tbody>\n",
       "    <tr>\n",
       "      <th>0</th>\n",
       "      <td>1.500000</td>\n",
       "      <td>2.500000e-01</td>\n",
       "    </tr>\n",
       "    <tr>\n",
       "      <th>1</th>\n",
       "      <td>1.416667</td>\n",
       "      <td>6.944444e-03</td>\n",
       "    </tr>\n",
       "    <tr>\n",
       "      <th>2</th>\n",
       "      <td>1.414216</td>\n",
       "      <td>6.007305e-06</td>\n",
       "    </tr>\n",
       "    <tr>\n",
       "      <th>3</th>\n",
       "      <td>1.414214</td>\n",
       "      <td>4.510614e-12</td>\n",
       "    </tr>\n",
       "    <tr>\n",
       "      <th>4</th>\n",
       "      <td>1.414214</td>\n",
       "      <td>4.440892e-16</td>\n",
       "    </tr>\n",
       "    <tr>\n",
       "      <th>5</th>\n",
       "      <td>1.414214</td>\n",
       "      <td>-4.440892e-16</td>\n",
       "    </tr>\n",
       "    <tr>\n",
       "      <th>6</th>\n",
       "      <td>1.414214</td>\n",
       "      <td>4.440892e-16</td>\n",
       "    </tr>\n",
       "    <tr>\n",
       "      <th>7</th>\n",
       "      <td>1.414214</td>\n",
       "      <td>-4.440892e-16</td>\n",
       "    </tr>\n",
       "  </tbody>\n",
       "</table>\n",
       "</div>"
      ],
      "text/plain": [
       "          x          f(x)\n",
       "0  1.500000  2.500000e-01\n",
       "1  1.416667  6.944444e-03\n",
       "2  1.414216  6.007305e-06\n",
       "3  1.414214  4.510614e-12\n",
       "4  1.414214  4.440892e-16\n",
       "5  1.414214 -4.440892e-16\n",
       "6  1.414214  4.440892e-16\n",
       "7  1.414214 -4.440892e-16"
      ]
     },
     "execution_count": 3,
     "metadata": {},
     "output_type": "execute_result"
    }
   ],
   "source": [
    "f = lambda x : x**2 - 2\n",
    "df = lambda x : 2*x\n",
    "x0 = 1.5\n",
    "i = 7\n",
    "\n",
    "NewtonMethod(f, df, x0, i)"
   ]
  }
 ],
 "metadata": {
  "kernelspec": {
   "display_name": "Python 3 (ipykernel)",
   "language": "python",
   "name": "python3"
  },
  "language_info": {
   "codemirror_mode": {
    "name": "ipython",
    "version": 3
   },
   "file_extension": ".py",
   "mimetype": "text/x-python",
   "name": "python",
   "nbconvert_exporter": "python",
   "pygments_lexer": "ipython3",
   "version": "3.9.7"
  }
 },
 "nbformat": 4,
 "nbformat_minor": 5
}
