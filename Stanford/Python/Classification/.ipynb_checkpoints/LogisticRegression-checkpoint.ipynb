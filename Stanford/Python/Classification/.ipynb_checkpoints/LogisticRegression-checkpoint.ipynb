{
 "cells": [
  {
   "cell_type": "markdown",
   "id": "07979d3d",
   "metadata": {},
   "source": [
    "# Non-Regularized Logistic Regression\n",
    "\n",
    "In this notebook we will use a logisitc model (also called sigmoid) $\\sigma:\\mathbb{R}\\rightarrow(0,1)$, such that $\\sigma(z)=\\frac{1}{1+\\exp(-z)}$ to solve a classification problem. However to get a variety of models, we shall also consider another function $f(\\boldsymbol{x})=\\langle \\boldsymbol{x}, \\boldsymbol{\\theta} \\rangle$ such that our hypothesis $h_{\\theta}(\\boldsymbol{x})=\\sigma(f(\\boldsymbol{x}))$.\n",
    "\n",
    "The image of the hypothesis for a particular vector of features $\\boldsymbol{x}$, which is a number between 0 and 1, may be thought of as the \"confidence\" the model has that $\\boldsymbol{x}$ is a member of the positive class. Thus we can determine a threshold (0.5 for instance), such that if the confidence is greater or equal to the threshold we predict $\\boldsymbol{x}$ as a member of the positive class:\n",
    "$$y_{\\mathrm{predicted}}(\\boldsymbol{x}) = \\left\\{\\begin{split}\n",
    "& 1 \\ \\mathrm{if} \\ h_{\\theta}(\\boldsymbol{x})\\geq 0.5 \\\\\n",
    "& 0 \\ \\mathrm{if} \\ h_{\\theta}(\\boldsymbol{x})<0.5 \n",
    "\\end{split}\\right..$$\n",
    "\n",
    "## Cost function\n",
    "\n",
    "For a logistic regression, the cost function $J(\\boldsymbol{\\theta})$ will not be defined as the usual mean square difference but rather as\n",
    "$$J(\\boldsymbol{\\theta})=-\\frac{1}{m}\\sum_{i=1}^{m}\\left[y^{(i)}\\ln\\left(h_{\\theta}\\left(\\boldsymbol{x}^{(i)}\\right)\\right) + \\left(1-y^{(i)}\\right)\\ln\\left(1-h_{\\theta}\\left(\\boldsymbol{x}^{(i)}\\right)\\right)\\right].$$\n",
    "If we define a vector $\\boldsymbol{h}_{\\theta}$ such that each of its components corresponds to the value $h_{\\theta}\\left(\\boldsymbol{x}^{(i)}\\right)$ for each training example, we can write the previous cost function in vector form as:\n",
    "$$J(\\boldsymbol{\\theta})=-\\frac{\\langle \\boldsymbol{y}, \\ln(\\boldsymbol{h}_{\\theta})\\rangle + \\langle\\boldsymbol{1}-\\boldsymbol{y}, \\ln\\left(\\boldsymbol{1}-\\boldsymbol{h}_{\\theta}\\right)\\rangle}{m},$$\n",
    "or equivalently\n",
    "$$J(\\boldsymbol{\\theta})=-\\frac{\\boldsymbol{y}^{T}\\ln(\\boldsymbol{h}_{\\theta}) + \\left(\\boldsymbol{1}-\\boldsymbol{y}\\right)^{T}\\ln\\left(\\boldsymbol{1}-\\boldsymbol{h}_{\\theta}\\right)}{m},$$\n",
    "where $\\boldsymbol{1}$ is a vector whose components are all equal to 1.\n",
    "\n",
    "We shall also use matrices to write the hypothesis vector valued function $\\boldsymbol{h}_{\\theta}:\\mathbb{R}^{n\\times m}\\rightarrow\\mathbb{R}^{m}$. Using the matrix $X_{ij}=x^{(i)}_{j}$ we can first write $f$ as a vector valued function\n",
    "$\\boldsymbol{f}:\\mathbb{R}^{n\\times m}\\rightarrow \\mathbb{R}^{m}$ such that each component of $\\boldsymbol{f}$ corresponds to the value of $f(\\boldsymbol{x}^{(i)})$ for each training example as follows\n",
    "$${f}(X)=X\\boldsymbol{\\theta}.$$\n",
    "Moreover we can define a vector valued sigmoid function $\\boldsymbol{\\sigma}:\\mathbb{R}^{m}\\rightarrow\\mathbb{R}^{m}$ such that each component of $\\boldsymbol{\\sigma}(\\boldsymbol{z})$ corresponds to $\\sigma(z)$ as previously defined. This can be done using element-wise division as\n",
    "$$\\boldsymbol{\\sigma}(\\boldsymbol{z})=\\frac{1}{\\boldsymbol{1}+\\exp(-\\boldsymbol{z})}.$$\n",
    "\n",
    "Using both of these new definitions we can now define $\\boldsymbol{h}_{\\theta}$ as follows\n",
    "$$\\boldsymbol{h}_{\\theta}(X) = \\frac{1}{\\boldsymbol{1}+\\exp(-\\boldsymbol{X\\boldsymbol{\\theta}})},$$\n",
    "such that this division referes to the element-wise reciprocral of $\\boldsymbol{1}+\\exp(-\\boldsymbol{X\\boldsymbol{\\theta}})$.\n",
    "\n",
    "## Cost function gradient\n",
    "For the mathematical background we only need one more thing, the gradient of the cost, or equivalently the partial derivative of $J$ with respect to each parameter $\\theta_{j}$. I won't provide a proof, but this partial derivates are exactly equal to\n",
    "$$\\frac{\\partial J}{\\partial \\theta_{j}}=\\frac{1}{m}\\sum_{i=1}^{m}x_{j}^{(i)}\\left(h_{\\theta}\\left(x^{(i)}\\right)-y^{(i)}\\right)$$\n",
    "which we may store in a vector $\\nabla J$, called gradient, using the previously defined vector valued function as\n",
    "$$\\nabla J = \\frac{X^{T}\\left(\\boldsymbol{h}_{\\theta}-\\boldsymbol{y}\\right)}{m}$$\n",
    "which will be required to optimize the parameters $\\boldsymbol{\\theta}$."
   ]
  },
  {
   "cell_type": "code",
   "execution_count": 1,
   "id": "83cf9353",
   "metadata": {},
   "outputs": [],
   "source": [
    "# Libraries\n",
    "\n",
    "import pandas as pd\n",
    "import numpy as np\n",
    "import matplotlib.pyplot as plt\n",
    "from scipy.optimize import minimize\n",
    "\n",
    "%matplotlib widget"
   ]
  },
  {
   "cell_type": "markdown",
   "id": "965e93aa",
   "metadata": {},
   "source": [
    "## Modules"
   ]
  },
  {
   "cell_type": "code",
   "execution_count": 2,
   "id": "30ab7563",
   "metadata": {},
   "outputs": [],
   "source": [
    "def plotData(df):\n",
    "    fig, ax = plt.subplots()\n",
    "    ax.scatter(df.x1[df.y==1], df.x2[df.y==1], label=\"Positive\")\n",
    "    ax.scatter(df.x1[df.y==0], df.x2[df.y==0], marker=\"x\", label=\"Negative\")\n",
    "    ax.legend()\n",
    "    return ax"
   ]
  },
  {
   "cell_type": "code",
   "execution_count": 3,
   "id": "78a95e44",
   "metadata": {},
   "outputs": [],
   "source": [
    "def sigmoid(z):\n",
    "    return 1./ (1 + np.exp(-z))"
   ]
  },
  {
   "cell_type": "code",
   "execution_count": 4,
   "id": "fc68f9ba",
   "metadata": {},
   "outputs": [],
   "source": [
    "def cost(theta, X, y):\n",
    "    m = y.size\n",
    "    h = sigmoid(X @ theta)\n",
    "    J = -(np.transpose(y) @ np.log(h) + np.transpose(1-y) @ np.log(1-h))/m\n",
    "    return J\n",
    "\n",
    "def grad(theta, X, y):\n",
    "    m = y.size\n",
    "    h = sigmoid(X @ theta)\n",
    "    grad = np.transpose(X) @ (h-y)/m\n",
    "    return grad"
   ]
  },
  {
   "cell_type": "code",
   "execution_count": 5,
   "id": "75c59c33",
   "metadata": {},
   "outputs": [],
   "source": [
    "def predict(theta, X):\n",
    "    h = sigmoid(X @ theta)\n",
    "    m = h.size\n",
    "    y_preds = np.zeros(m)\n",
    "    for i in range(m):\n",
    "        if h[i] >= 0.5:\n",
    "            y_preds[i] = 1\n",
    "        else:\n",
    "            y_preds[i] = 0\n",
    "    return y_preds"
   ]
  },
  {
   "cell_type": "markdown",
   "id": "f8e3f614",
   "metadata": {},
   "source": [
    "## Data"
   ]
  },
  {
   "cell_type": "code",
   "execution_count": 6,
   "id": "489d2715",
   "metadata": {},
   "outputs": [],
   "source": [
    "df = pd.read_csv(\"ex2data1.txt\", sep=\",\")\n",
    "\n",
    "# Features\n",
    "X = df.drop(\"y\", axis=1)\n",
    "X = np.array(X)\n",
    "\n",
    "# Targets\n",
    "y = df[\"y\"]\n",
    "\n",
    "# Sample size\n",
    "n = X[0,:].size\n",
    "m = X[:,0].size"
   ]
  },
  {
   "cell_type": "code",
   "execution_count": 7,
   "id": "7f07147d",
   "metadata": {},
   "outputs": [
    {
     "data": {
      "application/vnd.jupyter.widget-view+json": {
       "model_id": "d248b3f33f2e468f813d6cb0dc7bcacc",
       "version_major": 2,
       "version_minor": 0
      },
      "text/plain": [
       "Canvas(toolbar=Toolbar(toolitems=[('Home', 'Reset original view', 'home', 'home'), ('Back', 'Back to previous …"
      ]
     },
     "metadata": {},
     "output_type": "display_data"
    }
   ],
   "source": [
    "ax = plotData(df)\n",
    "ax.set(title = \"X space\", xlabel = \"Exam 1 score\", ylabel = \"Exam 2 score\")\n",
    "plt.show();"
   ]
  },
  {
   "cell_type": "code",
   "execution_count": 8,
   "id": "8739f637",
   "metadata": {},
   "outputs": [],
   "source": [
    "X = np.c_[np.ones((m,1)), X]\n",
    "theta0 = np.zeros(n+1)"
   ]
  },
  {
   "cell_type": "code",
   "execution_count": 9,
   "id": "3ac9ba4e",
   "metadata": {},
   "outputs": [
    {
     "name": "stdout",
     "output_type": "stream",
     "text": [
      "Cost at initial theta:\n",
      " \t\t\t0.693\n",
      "Grad at initial theta:\n",
      "\t\t\t-0.10\n",
      "\t\t\t-12.01\n",
      "\t\t\t-11.26\n"
     ]
    }
   ],
   "source": [
    "J = cost(theta0, X, y)\n",
    "dJ = grad(theta0, X, y)\n",
    "\n",
    "print(f\"Cost at initial theta:\\n \\t\\t\\t{J:.3f}\")\n",
    "print(\"Grad at initial theta:\")\n",
    "\n",
    "for i in range(dJ.size):\n",
    "    print(f\"\\t\\t\\t{dJ[i]:.2f}\")"
   ]
  },
  {
   "cell_type": "markdown",
   "id": "becc51cd",
   "metadata": {},
   "source": [
    "## Minimization of Cost using BFGS"
   ]
  },
  {
   "cell_type": "code",
   "execution_count": 10,
   "id": "3d0e615d",
   "metadata": {},
   "outputs": [],
   "source": [
    "import warnings\n",
    "warnings.filterwarnings('ignore')"
   ]
  },
  {
   "cell_type": "code",
   "execution_count": 11,
   "id": "1f03ab3e",
   "metadata": {},
   "outputs": [
    {
     "name": "stdout",
     "output_type": "stream",
     "text": [
      "Optimal parameters: [-25.16133284   0.2062317    0.2014716 ]\n",
      "Cost with optimal parameters: 0.203\n"
     ]
    }
   ],
   "source": [
    "res = minimize(lambda t: cost(t, X, y),\n",
    "               theta0,\n",
    "               method='BFGS',\n",
    "               jac=lambda t: grad(t, X, y),\n",
    "               options={'disp': False})\n",
    "\n",
    "theta = res.x\n",
    "\n",
    "print(\"Optimal parameters:\", end = \" \")\n",
    "print(theta)\n",
    "\n",
    "print(f\"Cost with optimal parameters: {cost(theta, X, y):.3f}\")"
   ]
  },
  {
   "cell_type": "code",
   "execution_count": 12,
   "id": "bd855ef5",
   "metadata": {},
   "outputs": [],
   "source": [
    "# Plot boundary\n",
    "f = lambda t: (-theta[1]*t-theta[0])/theta[2]\n",
    "t = np.array([29, 100])\n",
    "ax.plot(t, f(t), c='#000000', label='Boundary')\n",
    "ax.legend();"
   ]
  },
  {
   "cell_type": "markdown",
   "id": "0d5cf1e9",
   "metadata": {},
   "source": [
    "## Model accuracy (on training set)"
   ]
  },
  {
   "cell_type": "code",
   "execution_count": 13,
   "id": "d3780d27",
   "metadata": {},
   "outputs": [
    {
     "name": "stdout",
     "output_type": "stream",
     "text": [
      "Train Accuracy: 89.0\n"
     ]
    }
   ],
   "source": [
    "y_preds = predict(theta, X)\n",
    "\n",
    "y_preds_correct = y_preds\n",
    "for i in range(y_preds.size):\n",
    "     y_preds_correct[i] = float(y_preds[i]==y[i])\n",
    "    \n",
    "print(f\"Train Accuracy: {np.mean(y_preds_correct) * 100}\")"
   ]
  },
  {
   "cell_type": "markdown",
   "id": "a322b64d",
   "metadata": {},
   "source": [
    "# Regularized Logistic Regression\n",
    "\n",
    "To get more interesting boundaries, we may consider using more complex functions $f(\\boldsymbol{x})=\\langle \\boldsymbol{x}, \\boldsymbol{\\theta} \\rangle$. For instance, we may use a polynomial function using a vector:\n",
    "$$\\boldsymbol{x} = \\begin{bmatrix}\n",
    "1 \\\\\n",
    "x \\\\\n",
    "x^{2} \\\\\n",
    "\\vdots \\\\\n",
    "x^{N}\n",
    "\\end{bmatrix}.\n",
    "$$\n",
    "\n",
    "If we want to use 2 features $x_{1}, x_{2}$ we could consider a vector containing combinations of their powers:\n",
    "$$\\boldsymbol{x} = \\begin{bmatrix}\n",
    "1 \\\\\n",
    "x_{1} \\\\\n",
    "x_{2} \\\\\n",
    "x_{1}^{2} \\\\\n",
    "x_{1}x_{2} \\\\\n",
    "x_{2}^{2} \\\\\n",
    "x_{1}^{3} \\\\\n",
    "\\vdots \\\\\n",
    "x_{1}^{i-k}x_{2}^{k}\\\\\n",
    "\\end{bmatrix}.\n",
    "$$\n",
    "However by doing so we might run into the problem of overfitting, which means that our boundary fits perfectly the data but it's nonsensical when extrapolating to data outside the training set.\n",
    "\n",
    "To use the advantages of more complex functions without overfitting we use regularization, which consists on penalizing the parameters $\\theta_{j}$ (excluding the independent term) so that they cannot be \"big\" in magnitude. In order to do so, we modify the cost function such that\n",
    "$$J\\left(\\boldsymbol{\\theta}\\right)= -\\frac{\\boldsymbol{y}^{T}\\ln(\\boldsymbol{h}_{\\theta}) + \\left(\\boldsymbol{1}-\\boldsymbol{y}\\right)^{T}\\ln\\left(\\boldsymbol{1}-\\boldsymbol{h}_{\\theta}\\right)}{m} + \\frac{\\lambda}{2m}\\sum_{j=1}^{N}\\theta_{j}^{2}$$\n",
    "\n",
    "$$J\\left(\\boldsymbol{\\theta}\\right)= -\\frac{\\boldsymbol{y}^{T}\\ln(\\boldsymbol{h}_{\\theta}) + \\left(\\boldsymbol{1}-\\boldsymbol{y}\\right)^{T}\\ln\\left(\\boldsymbol{1}-\\boldsymbol{h}_{\\theta}\\right) - \\frac{\\lambda}{2}\\sum_{j=1}^{N}\\theta_{j}^{2}}{m},$$\n",
    "where $\\lambda$ is a regularization parameter that allows us to change how much we want to penalize the coefficients $\\theta_{j}$."
   ]
  },
  {
   "cell_type": "markdown",
   "id": "e86d4311",
   "metadata": {},
   "source": [
    "## Modules"
   ]
  },
  {
   "cell_type": "code",
   "execution_count": 14,
   "id": "604403b7",
   "metadata": {},
   "outputs": [],
   "source": [
    "def mapFeatures(X1, X2, degree=6):\n",
    "    \"\"\"\n",
    "    Creates and returns a matrix that has additional polynomial features of a specified degree\n",
    "    \"\"\"\n",
    "    Xout = np.ones(X1.size)\n",
    "    \n",
    "    for i in range(degree):\n",
    "        for j in range(i):\n",
    "            Xout = np.c_[Xout, (X1**(i-j))*(X2**j)]\n",
    "    \n",
    "    return Xout"
   ]
  },
  {
   "cell_type": "code",
   "execution_count": 16,
   "id": "cbf5e4ac",
   "metadata": {},
   "outputs": [],
   "source": [
    "def costReg(theta, X, y, l):\n",
    "    \"\"\"\n",
    "    Returns the regularized cost\n",
    "    \"\"\"\n",
    "    m = y.size\n",
    "    h = sigmoid(X @ theta)\n",
    "    tempTheta = theta\n",
    "    tempTheta[0] = 0\n",
    "    \n",
    "    J = - (np.transpose(y) @ np.log(h) + np.transpose(1-y) @ np.log(1-h) - l/2  * np.transpose(tempTheta) @ tempTheta)/m\n",
    "    return J\n",
    "\n",
    "def gradReg(theta, X, y, l):\n",
    "    \"\"\"\n",
    "    Returns the regularized cost gradient\n",
    "    \"\"\"\n",
    "    m = y.size\n",
    "    h = sigmoid(X @ theta)\n",
    "    tempTheta = theta\n",
    "    tempTheta[0] = 0\n",
    "    \n",
    "    grad = (np.transpose(X) @ (h-y) + l*tempTheta)/m\n",
    "    return grad"
   ]
  },
  {
   "cell_type": "markdown",
   "id": "e8e662d2",
   "metadata": {},
   "source": [
    "## Data"
   ]
  },
  {
   "cell_type": "code",
   "execution_count": 17,
   "id": "caaf82bc",
   "metadata": {},
   "outputs": [],
   "source": [
    "df = pd.read_csv(\"ex2data2.txt\", sep=\",\")\n",
    "\n",
    "# Features\n",
    "X = df.drop(\"y\", axis=1)\n",
    "X = np.array(X)\n",
    "\n",
    "# Targets\n",
    "y = df[\"y\"]\n",
    "\n",
    "# Sample size\n",
    "m = X[:,0].size"
   ]
  },
  {
   "cell_type": "code",
   "execution_count": 18,
   "id": "e8e0d52b",
   "metadata": {
    "scrolled": true
   },
   "outputs": [
    {
     "data": {
      "application/vnd.jupyter.widget-view+json": {
       "model_id": "0357cc991fb04ffabcefb5bfe75f6ecd",
       "version_major": 2,
       "version_minor": 0
      },
      "text/plain": [
       "Canvas(toolbar=Toolbar(toolitems=[('Home', 'Reset original view', 'home', 'home'), ('Back', 'Back to previous …"
      ]
     },
     "metadata": {},
     "output_type": "display_data"
    }
   ],
   "source": [
    "ax = plotData(df)\n",
    "ax.set(title = \"X space\", xlabel = \"Microchip Test 1\", ylabel = \"Microchip Test 2\")\n",
    "plt.show();"
   ]
  },
  {
   "cell_type": "code",
   "execution_count": 19,
   "id": "ee9938cf",
   "metadata": {},
   "outputs": [],
   "source": [
    "X = mapFeatures(X[:,0], X[:,1])"
   ]
  },
  {
   "cell_type": "code",
   "execution_count": 20,
   "id": "4ef7e425",
   "metadata": {},
   "outputs": [
    {
     "name": "stdout",
     "output_type": "stream",
     "text": [
      "Cost with initial parameters: 0.693\n",
      "Gradient at initial theta:\n",
      "0.0085\n",
      "0.0188\n",
      "0.0503\n",
      "0.0115\n",
      "0.0184\n",
      "0.0073\n",
      "0.0082\n",
      "0.0393\n",
      "0.0022\n",
      "0.0129\n",
      "0.0031\n",
      "0.0200\n",
      "0.0043\n",
      "0.0034\n",
      "0.0058\n",
      "0.0045\n"
     ]
    }
   ],
   "source": [
    "initial_theta = np.zeros(X[0, :].size)\n",
    "l = 1\n",
    "\n",
    "print(f\"Cost with initial parameters: {costReg(initial_theta, X, y, l):.3f}\")\n",
    "print(\"Gradient at initial theta:\")\n",
    "grad = gradReg(initial_theta, X, y, l) \n",
    "for i in range(grad.size):\n",
    "    print(f\"{grad[i]:.4f}\")"
   ]
  },
  {
   "cell_type": "code",
   "execution_count": 21,
   "id": "53e35016",
   "metadata": {},
   "outputs": [
    {
     "name": "stdout",
     "output_type": "stream",
     "text": [
      "Cost with optimal parameters: 0.621\n"
     ]
    }
   ],
   "source": [
    "res = minimize(lambda t: costReg(t, X, y, l),\n",
    "               initial_theta,\n",
    "               method='BFGS',\n",
    "               jac=lambda t: gradReg(t, X, y, l),\n",
    "               options={'disp': False})\n",
    "\n",
    "theta = res.x\n",
    "print(f\"Cost with optimal parameters: {costReg(theta, X, y, l):.3f}\")"
   ]
  }
 ],
 "metadata": {
  "kernelspec": {
   "display_name": "Python 3 (ipykernel)",
   "language": "python",
   "name": "python3"
  },
  "language_info": {
   "codemirror_mode": {
    "name": "ipython",
    "version": 3
   },
   "file_extension": ".py",
   "mimetype": "text/x-python",
   "name": "python",
   "nbconvert_exporter": "python",
   "pygments_lexer": "ipython3",
   "version": "3.9.7"
  },
  "widgets": {
   "application/vnd.jupyter.widget-state+json": {
    "state": {
     "011db529b59846b48a6b299ac2cd85e6": {
      "model_module": "jupyter-matplotlib",
      "model_module_version": "^0.9.0",
      "model_name": "ToolbarModel",
      "state": {
       "layout": "IPY_MODEL_a240f422133f4181bcc85678dd8b44f3",
       "toolitems": [
        [
         "Home",
         "Reset original view",
         "home",
         "home"
        ],
        [
         "Back",
         "Back to previous view",
         "arrow-left",
         "back"
        ],
        [
         "Forward",
         "Forward to next view",
         "arrow-right",
         "forward"
        ],
        [
         "Pan",
         "Left button pans, Right button zooms\nx/y fixes axis, CTRL fixes aspect",
         "arrows",
         "pan"
        ],
        [
         "Zoom",
         "Zoom to rectangle\nx/y fixes axis",
         "square-o",
         "zoom"
        ],
        [
         "Download",
         "Download plot",
         "floppy-o",
         "save_figure"
        ]
       ]
      }
     },
     "03683033f27544aa8f1c4e26517e5c8c": {
      "model_module": "jupyter-matplotlib",
      "model_module_version": "^0.9.0",
      "model_name": "ToolbarModel",
      "state": {
       "layout": "IPY_MODEL_efac6807b0a7408c9daf6fbcac3e339d",
       "toolitems": [
        [
         "Home",
         "Reset original view",
         "home",
         "home"
        ],
        [
         "Back",
         "Back to previous view",
         "arrow-left",
         "back"
        ],
        [
         "Forward",
         "Forward to next view",
         "arrow-right",
         "forward"
        ],
        [
         "Pan",
         "Left button pans, Right button zooms\nx/y fixes axis, CTRL fixes aspect",
         "arrows",
         "pan"
        ],
        [
         "Zoom",
         "Zoom to rectangle\nx/y fixes axis",
         "square-o",
         "zoom"
        ],
        [
         "Download",
         "Download plot",
         "floppy-o",
         "save_figure"
        ]
       ]
      }
     },
     "0393128a43e74da5832b6c52d5f8bb5f": {
      "model_module": "jupyter-matplotlib",
      "model_module_version": "^0.9.0",
      "model_name": "ToolbarModel",
      "state": {
       "layout": "IPY_MODEL_4c84f87a6b1b40608b53dc500217146d",
       "toolitems": [
        [
         "Home",
         "Reset original view",
         "home",
         "home"
        ],
        [
         "Back",
         "Back to previous view",
         "arrow-left",
         "back"
        ],
        [
         "Forward",
         "Forward to next view",
         "arrow-right",
         "forward"
        ],
        [
         "Pan",
         "Left button pans, Right button zooms\nx/y fixes axis, CTRL fixes aspect",
         "arrows",
         "pan"
        ],
        [
         "Zoom",
         "Zoom to rectangle\nx/y fixes axis",
         "square-o",
         "zoom"
        ],
        [
         "Download",
         "Download plot",
         "floppy-o",
         "save_figure"
        ]
       ]
      }
     },
     "0422f24399a240329ecc38803460d4b2": {
      "model_module": "jupyter-matplotlib",
      "model_module_version": "^0.9.0",
      "model_name": "ToolbarModel",
      "state": {
       "layout": "IPY_MODEL_b17a1167aeba4d7bb84316768f22db25",
       "toolitems": [
        [
         "Home",
         "Reset original view",
         "home",
         "home"
        ],
        [
         "Back",
         "Back to previous view",
         "arrow-left",
         "back"
        ],
        [
         "Forward",
         "Forward to next view",
         "arrow-right",
         "forward"
        ],
        [
         "Pan",
         "Left button pans, Right button zooms\nx/y fixes axis, CTRL fixes aspect",
         "arrows",
         "pan"
        ],
        [
         "Zoom",
         "Zoom to rectangle\nx/y fixes axis",
         "square-o",
         "zoom"
        ],
        [
         "Download",
         "Download plot",
         "floppy-o",
         "save_figure"
        ]
       ]
      }
     },
     "04fe4c5d82ad42069ec6d69096510fbe": {
      "model_module": "@jupyter-widgets/base",
      "model_module_version": "1.2.0",
      "model_name": "LayoutModel",
      "state": {}
     },
     "09c425262ee748c48676cd70449d180e": {
      "model_module": "@jupyter-widgets/base",
      "model_module_version": "1.2.0",
      "model_name": "LayoutModel",
      "state": {}
     },
     "0a35a46752924e449700bd94804536ec": {
      "model_module": "jupyter-matplotlib",
      "model_module_version": "^0.9.0",
      "model_name": "ToolbarModel",
      "state": {
       "layout": "IPY_MODEL_b110f470c700484295d83fc8a2291834",
       "toolitems": [
        [
         "Home",
         "Reset original view",
         "home",
         "home"
        ],
        [
         "Back",
         "Back to previous view",
         "arrow-left",
         "back"
        ],
        [
         "Forward",
         "Forward to next view",
         "arrow-right",
         "forward"
        ],
        [
         "Pan",
         "Left button pans, Right button zooms\nx/y fixes axis, CTRL fixes aspect",
         "arrows",
         "pan"
        ],
        [
         "Zoom",
         "Zoom to rectangle\nx/y fixes axis",
         "square-o",
         "zoom"
        ],
        [
         "Download",
         "Download plot",
         "floppy-o",
         "save_figure"
        ]
       ]
      }
     },
     "0ba8784d702143f7986d55abd669acae": {
      "model_module": "jupyter-matplotlib",
      "model_module_version": "^0.9.0",
      "model_name": "ToolbarModel",
      "state": {
       "layout": "IPY_MODEL_3ae683f053214136924ecf7183b02302",
       "toolitems": [
        [
         "Home",
         "Reset original view",
         "home",
         "home"
        ],
        [
         "Back",
         "Back to previous view",
         "arrow-left",
         "back"
        ],
        [
         "Forward",
         "Forward to next view",
         "arrow-right",
         "forward"
        ],
        [
         "Pan",
         "Left button pans, Right button zooms\nx/y fixes axis, CTRL fixes aspect",
         "arrows",
         "pan"
        ],
        [
         "Zoom",
         "Zoom to rectangle\nx/y fixes axis",
         "square-o",
         "zoom"
        ],
        [
         "Download",
         "Download plot",
         "floppy-o",
         "save_figure"
        ]
       ]
      }
     },
     "0c67393d5a0544b3958ca99e2954c89f": {
      "model_module": "@jupyter-widgets/base",
      "model_module_version": "1.2.0",
      "model_name": "LayoutModel",
      "state": {}
     },
     "0e049601f129497d976a64cdf0fb68f7": {
      "model_module": "@jupyter-widgets/base",
      "model_module_version": "1.2.0",
      "model_name": "LayoutModel",
      "state": {}
     },
     "109cc1737cb04393a9fb4b10d9c4ad2f": {
      "model_module": "@jupyter-widgets/base",
      "model_module_version": "1.2.0",
      "model_name": "LayoutModel",
      "state": {}
     },
     "13dd1441803048258e39ad8aa73dd8f6": {
      "model_module": "jupyter-matplotlib",
      "model_module_version": "^0.9.0",
      "model_name": "ToolbarModel",
      "state": {
       "layout": "IPY_MODEL_17c869da6334476a82f8ef3326036a7d",
       "toolitems": [
        [
         "Home",
         "Reset original view",
         "home",
         "home"
        ],
        [
         "Back",
         "Back to previous view",
         "arrow-left",
         "back"
        ],
        [
         "Forward",
         "Forward to next view",
         "arrow-right",
         "forward"
        ],
        [
         "Pan",
         "Left button pans, Right button zooms\nx/y fixes axis, CTRL fixes aspect",
         "arrows",
         "pan"
        ],
        [
         "Zoom",
         "Zoom to rectangle\nx/y fixes axis",
         "square-o",
         "zoom"
        ],
        [
         "Download",
         "Download plot",
         "floppy-o",
         "save_figure"
        ]
       ]
      }
     },
     "151ad8e8b3034e98b032a30f43297f42": {
      "model_module": "@jupyter-widgets/base",
      "model_module_version": "1.2.0",
      "model_name": "LayoutModel",
      "state": {}
     },
     "16337516289c46f9997bd0f6f9744af1": {
      "model_module": "jupyter-matplotlib",
      "model_module_version": "^0.9.0",
      "model_name": "ToolbarModel",
      "state": {
       "layout": "IPY_MODEL_09c425262ee748c48676cd70449d180e",
       "toolitems": [
        [
         "Home",
         "Reset original view",
         "home",
         "home"
        ],
        [
         "Back",
         "Back to previous view",
         "arrow-left",
         "back"
        ],
        [
         "Forward",
         "Forward to next view",
         "arrow-right",
         "forward"
        ],
        [
         "Pan",
         "Left button pans, Right button zooms\nx/y fixes axis, CTRL fixes aspect",
         "arrows",
         "pan"
        ],
        [
         "Zoom",
         "Zoom to rectangle\nx/y fixes axis",
         "square-o",
         "zoom"
        ],
        [
         "Download",
         "Download plot",
         "floppy-o",
         "save_figure"
        ]
       ]
      }
     },
     "17c869da6334476a82f8ef3326036a7d": {
      "model_module": "@jupyter-widgets/base",
      "model_module_version": "1.2.0",
      "model_name": "LayoutModel",
      "state": {}
     },
     "188c655316bf490fbc0d30e5d88354e7": {
      "model_module": "jupyter-matplotlib",
      "model_module_version": "^0.9.0",
      "model_name": "ToolbarModel",
      "state": {
       "layout": "IPY_MODEL_151ad8e8b3034e98b032a30f43297f42",
       "toolitems": [
        [
         "Home",
         "Reset original view",
         "home",
         "home"
        ],
        [
         "Back",
         "Back to previous view",
         "arrow-left",
         "back"
        ],
        [
         "Forward",
         "Forward to next view",
         "arrow-right",
         "forward"
        ],
        [
         "Pan",
         "Left button pans, Right button zooms\nx/y fixes axis, CTRL fixes aspect",
         "arrows",
         "pan"
        ],
        [
         "Zoom",
         "Zoom to rectangle\nx/y fixes axis",
         "square-o",
         "zoom"
        ],
        [
         "Download",
         "Download plot",
         "floppy-o",
         "save_figure"
        ]
       ]
      }
     },
     "1897a03dba2b4a3aa73701597a0d36d9": {
      "model_module": "jupyter-matplotlib",
      "model_module_version": "^0.9.0",
      "model_name": "ToolbarModel",
      "state": {
       "layout": "IPY_MODEL_89570111023f4468a8bbb2d47a0a2de8",
       "toolitems": [
        [
         "Home",
         "Reset original view",
         "home",
         "home"
        ],
        [
         "Back",
         "Back to previous view",
         "arrow-left",
         "back"
        ],
        [
         "Forward",
         "Forward to next view",
         "arrow-right",
         "forward"
        ],
        [
         "Pan",
         "Left button pans, Right button zooms\nx/y fixes axis, CTRL fixes aspect",
         "arrows",
         "pan"
        ],
        [
         "Zoom",
         "Zoom to rectangle\nx/y fixes axis",
         "square-o",
         "zoom"
        ],
        [
         "Download",
         "Download plot",
         "floppy-o",
         "save_figure"
        ]
       ]
      }
     },
     "19a4d1ea115a4ee8b15809fbe627eabb": {
      "model_module": "@jupyter-widgets/base",
      "model_module_version": "1.2.0",
      "model_name": "LayoutModel",
      "state": {}
     },
     "1b3a04d3288e494caa7943c27a511603": {
      "model_module": "@jupyter-widgets/base",
      "model_module_version": "1.2.0",
      "model_name": "LayoutModel",
      "state": {}
     },
     "1b61b3d48b2049f3b137abf7fea03879": {
      "model_module": "@jupyter-widgets/base",
      "model_module_version": "1.2.0",
      "model_name": "LayoutModel",
      "state": {}
     },
     "1b9ffc5e4a254e15bc809ab5916cead6": {
      "model_module": "@jupyter-widgets/base",
      "model_module_version": "1.2.0",
      "model_name": "LayoutModel",
      "state": {}
     },
     "1d67524ee7fa4c5da33b0a87b98891d7": {
      "model_module": "@jupyter-widgets/base",
      "model_module_version": "1.2.0",
      "model_name": "LayoutModel",
      "state": {}
     },
     "1fa2a5e69148452db432e39245a3c568": {
      "model_module": "jupyter-matplotlib",
      "model_module_version": "^0.9.0",
      "model_name": "ToolbarModel",
      "state": {
       "layout": "IPY_MODEL_3c4c824dc3a54fbbbb770e9f1608c664",
       "toolitems": [
        [
         "Home",
         "Reset original view",
         "home",
         "home"
        ],
        [
         "Back",
         "Back to previous view",
         "arrow-left",
         "back"
        ],
        [
         "Forward",
         "Forward to next view",
         "arrow-right",
         "forward"
        ],
        [
         "Pan",
         "Left button pans, Right button zooms\nx/y fixes axis, CTRL fixes aspect",
         "arrows",
         "pan"
        ],
        [
         "Zoom",
         "Zoom to rectangle\nx/y fixes axis",
         "square-o",
         "zoom"
        ],
        [
         "Download",
         "Download plot",
         "floppy-o",
         "save_figure"
        ]
       ]
      }
     },
     "202ed31ce7ee41f58bd0b5b5fa53d165": {
      "model_module": "@jupyter-widgets/base",
      "model_module_version": "1.2.0",
      "model_name": "LayoutModel",
      "state": {}
     },
     "22328faf58a34d259d92650959e323b6": {
      "model_module": "jupyter-matplotlib",
      "model_module_version": "^0.9.0",
      "model_name": "MPLCanvasModel",
      "state": {
       "_figure_label": "Figure 1",
       "_height": 480,
       "_message": "x=57.9 y=20.5",
       "_width": 640,
       "layout": "IPY_MODEL_eed97b32cb184d289fd5af6b6d2cb111",
       "toolbar": "IPY_MODEL_ade5df68f6394faa8107f7b1745b8874",
       "toolbar_position": "left"
      }
     },
     "23cf7538d5374f4c8e5bd97f97acf8c0": {
      "model_module": "@jupyter-widgets/base",
      "model_module_version": "1.2.0",
      "model_name": "LayoutModel",
      "state": {}
     },
     "2e1d6ea99c554f6bb4ff89e62ae251b1": {
      "model_module": "@jupyter-widgets/base",
      "model_module_version": "1.2.0",
      "model_name": "LayoutModel",
      "state": {}
     },
     "304caef88fff49da92140233c328ea10": {
      "model_module": "@jupyter-widgets/base",
      "model_module_version": "1.2.0",
      "model_name": "LayoutModel",
      "state": {}
     },
     "3098fcb8d73744ee9e93160777f64403": {
      "model_module": "@jupyter-widgets/base",
      "model_module_version": "1.2.0",
      "model_name": "LayoutModel",
      "state": {}
     },
     "3275dc25abf042c28fcfb1df5966dc33": {
      "model_module": "jupyter-matplotlib",
      "model_module_version": "^0.9.0",
      "model_name": "ToolbarModel",
      "state": {
       "layout": "IPY_MODEL_7c0ae670b1ea43afb49458377a9813ab",
       "toolitems": [
        [
         "Home",
         "Reset original view",
         "home",
         "home"
        ],
        [
         "Back",
         "Back to previous view",
         "arrow-left",
         "back"
        ],
        [
         "Forward",
         "Forward to next view",
         "arrow-right",
         "forward"
        ],
        [
         "Pan",
         "Left button pans, Right button zooms\nx/y fixes axis, CTRL fixes aspect",
         "arrows",
         "pan"
        ],
        [
         "Zoom",
         "Zoom to rectangle\nx/y fixes axis",
         "square-o",
         "zoom"
        ],
        [
         "Download",
         "Download plot",
         "floppy-o",
         "save_figure"
        ]
       ]
      }
     },
     "3470c966c9fc4fedba168fb12fb6828b": {
      "model_module": "@jupyter-widgets/base",
      "model_module_version": "1.2.0",
      "model_name": "LayoutModel",
      "state": {}
     },
     "3ae683f053214136924ecf7183b02302": {
      "model_module": "@jupyter-widgets/base",
      "model_module_version": "1.2.0",
      "model_name": "LayoutModel",
      "state": {}
     },
     "3be0e0cdf9f94f00897e4764a92fe078": {
      "model_module": "jupyter-matplotlib",
      "model_module_version": "^0.9.0",
      "model_name": "ToolbarModel",
      "state": {
       "layout": "IPY_MODEL_c4c96b1044ed4cc595fea3879e20b485",
       "toolitems": [
        [
         "Home",
         "Reset original view",
         "home",
         "home"
        ],
        [
         "Back",
         "Back to previous view",
         "arrow-left",
         "back"
        ],
        [
         "Forward",
         "Forward to next view",
         "arrow-right",
         "forward"
        ],
        [
         "Pan",
         "Left button pans, Right button zooms\nx/y fixes axis, CTRL fixes aspect",
         "arrows",
         "pan"
        ],
        [
         "Zoom",
         "Zoom to rectangle\nx/y fixes axis",
         "square-o",
         "zoom"
        ],
        [
         "Download",
         "Download plot",
         "floppy-o",
         "save_figure"
        ]
       ]
      }
     },
     "3c4c824dc3a54fbbbb770e9f1608c664": {
      "model_module": "@jupyter-widgets/base",
      "model_module_version": "1.2.0",
      "model_name": "LayoutModel",
      "state": {}
     },
     "416b53142bcf442082c882b7dff5d3b2": {
      "model_module": "jupyter-matplotlib",
      "model_module_version": "^0.9.0",
      "model_name": "ToolbarModel",
      "state": {
       "layout": "IPY_MODEL_aa88d094fd6f412882103cb7ceda0113",
       "toolitems": [
        [
         "Home",
         "Reset original view",
         "home",
         "home"
        ],
        [
         "Back",
         "Back to previous view",
         "arrow-left",
         "back"
        ],
        [
         "Forward",
         "Forward to next view",
         "arrow-right",
         "forward"
        ],
        [
         "Pan",
         "Left button pans, Right button zooms\nx/y fixes axis, CTRL fixes aspect",
         "arrows",
         "pan"
        ],
        [
         "Zoom",
         "Zoom to rectangle\nx/y fixes axis",
         "square-o",
         "zoom"
        ],
        [
         "Download",
         "Download plot",
         "floppy-o",
         "save_figure"
        ]
       ]
      }
     },
     "428c871218d84fff8169db8aaa7a9c09": {
      "model_module": "@jupyter-widgets/base",
      "model_module_version": "1.2.0",
      "model_name": "LayoutModel",
      "state": {}
     },
     "42e26e6bf09c4f88850f4617c9450ff8": {
      "model_module": "@jupyter-widgets/base",
      "model_module_version": "1.2.0",
      "model_name": "LayoutModel",
      "state": {}
     },
     "43e71fafa7a94b038c4ed351e0608bef": {
      "model_module": "jupyter-matplotlib",
      "model_module_version": "^0.9.0",
      "model_name": "ToolbarModel",
      "state": {
       "layout": "IPY_MODEL_a47e2793699c4c37b5fcb06b6eb4a66c",
       "toolitems": [
        [
         "Home",
         "Reset original view",
         "home",
         "home"
        ],
        [
         "Back",
         "Back to previous view",
         "arrow-left",
         "back"
        ],
        [
         "Forward",
         "Forward to next view",
         "arrow-right",
         "forward"
        ],
        [
         "Pan",
         "Left button pans, Right button zooms\nx/y fixes axis, CTRL fixes aspect",
         "arrows",
         "pan"
        ],
        [
         "Zoom",
         "Zoom to rectangle\nx/y fixes axis",
         "square-o",
         "zoom"
        ],
        [
         "Download",
         "Download plot",
         "floppy-o",
         "save_figure"
        ]
       ]
      }
     },
     "48de1820d578429ebf5e3d11a7bfb841": {
      "model_module": "jupyter-matplotlib",
      "model_module_version": "^0.9.0",
      "model_name": "ToolbarModel",
      "state": {
       "layout": "IPY_MODEL_19a4d1ea115a4ee8b15809fbe627eabb",
       "toolitems": [
        [
         "Home",
         "Reset original view",
         "home",
         "home"
        ],
        [
         "Back",
         "Back to previous view",
         "arrow-left",
         "back"
        ],
        [
         "Forward",
         "Forward to next view",
         "arrow-right",
         "forward"
        ],
        [
         "Pan",
         "Left button pans, Right button zooms\nx/y fixes axis, CTRL fixes aspect",
         "arrows",
         "pan"
        ],
        [
         "Zoom",
         "Zoom to rectangle\nx/y fixes axis",
         "square-o",
         "zoom"
        ],
        [
         "Download",
         "Download plot",
         "floppy-o",
         "save_figure"
        ]
       ]
      }
     },
     "4c84f87a6b1b40608b53dc500217146d": {
      "model_module": "@jupyter-widgets/base",
      "model_module_version": "1.2.0",
      "model_name": "LayoutModel",
      "state": {}
     },
     "4d3d476a3ef943c682bb39aca6b56345": {
      "model_module": "jupyter-matplotlib",
      "model_module_version": "^0.9.0",
      "model_name": "ToolbarModel",
      "state": {
       "layout": "IPY_MODEL_b356621a28c746a090a4a9c75feb4053",
       "toolitems": [
        [
         "Home",
         "Reset original view",
         "home",
         "home"
        ],
        [
         "Back",
         "Back to previous view",
         "arrow-left",
         "back"
        ],
        [
         "Forward",
         "Forward to next view",
         "arrow-right",
         "forward"
        ],
        [
         "Pan",
         "Left button pans, Right button zooms\nx/y fixes axis, CTRL fixes aspect",
         "arrows",
         "pan"
        ],
        [
         "Zoom",
         "Zoom to rectangle\nx/y fixes axis",
         "square-o",
         "zoom"
        ],
        [
         "Download",
         "Download plot",
         "floppy-o",
         "save_figure"
        ]
       ]
      }
     },
     "4d5b9bdcbf964c4381a5e6a6ffddb74f": {
      "model_module": "@jupyter-widgets/base",
      "model_module_version": "1.2.0",
      "model_name": "LayoutModel",
      "state": {}
     },
     "4d88d49a7630444da639110f5fcf4e11": {
      "model_module": "jupyter-matplotlib",
      "model_module_version": "^0.9.0",
      "model_name": "ToolbarModel",
      "state": {
       "layout": "IPY_MODEL_0c67393d5a0544b3958ca99e2954c89f",
       "toolitems": [
        [
         "Home",
         "Reset original view",
         "home",
         "home"
        ],
        [
         "Back",
         "Back to previous view",
         "arrow-left",
         "back"
        ],
        [
         "Forward",
         "Forward to next view",
         "arrow-right",
         "forward"
        ],
        [
         "Pan",
         "Left button pans, Right button zooms\nx/y fixes axis, CTRL fixes aspect",
         "arrows",
         "pan"
        ],
        [
         "Zoom",
         "Zoom to rectangle\nx/y fixes axis",
         "square-o",
         "zoom"
        ],
        [
         "Download",
         "Download plot",
         "floppy-o",
         "save_figure"
        ]
       ]
      }
     },
     "508f94589bff4235973bb7e9ece5fde4": {
      "model_module": "@jupyter-widgets/base",
      "model_module_version": "1.2.0",
      "model_name": "LayoutModel",
      "state": {}
     },
     "50cba90e9e554b6fa64ea019a75fdc3a": {
      "model_module": "@jupyter-widgets/base",
      "model_module_version": "1.2.0",
      "model_name": "LayoutModel",
      "state": {}
     },
     "54c34d565a4e4e1da4f1289aaa8b6914": {
      "model_module": "@jupyter-widgets/base",
      "model_module_version": "1.2.0",
      "model_name": "LayoutModel",
      "state": {}
     },
     "567cb899c79446159333ce710f50a97f": {
      "model_module": "jupyter-matplotlib",
      "model_module_version": "^0.9.0",
      "model_name": "ToolbarModel",
      "state": {
       "layout": "IPY_MODEL_65a87719ad2e4f2ebd067d03809caec5",
       "toolitems": [
        [
         "Home",
         "Reset original view",
         "home",
         "home"
        ],
        [
         "Back",
         "Back to previous view",
         "arrow-left",
         "back"
        ],
        [
         "Forward",
         "Forward to next view",
         "arrow-right",
         "forward"
        ],
        [
         "Pan",
         "Left button pans, Right button zooms\nx/y fixes axis, CTRL fixes aspect",
         "arrows",
         "pan"
        ],
        [
         "Zoom",
         "Zoom to rectangle\nx/y fixes axis",
         "square-o",
         "zoom"
        ],
        [
         "Download",
         "Download plot",
         "floppy-o",
         "save_figure"
        ]
       ]
      }
     },
     "619e75b5aa464f5dbaecf0aead1d37c5": {
      "model_module": "jupyter-matplotlib",
      "model_module_version": "^0.9.0",
      "model_name": "ToolbarModel",
      "state": {
       "layout": "IPY_MODEL_1d67524ee7fa4c5da33b0a87b98891d7",
       "toolitems": [
        [
         "Home",
         "Reset original view",
         "home",
         "home"
        ],
        [
         "Back",
         "Back to previous view",
         "arrow-left",
         "back"
        ],
        [
         "Forward",
         "Forward to next view",
         "arrow-right",
         "forward"
        ],
        [
         "Pan",
         "Left button pans, Right button zooms\nx/y fixes axis, CTRL fixes aspect",
         "arrows",
         "pan"
        ],
        [
         "Zoom",
         "Zoom to rectangle\nx/y fixes axis",
         "square-o",
         "zoom"
        ],
        [
         "Download",
         "Download plot",
         "floppy-o",
         "save_figure"
        ]
       ]
      }
     },
     "61de3b2e44b54f659207515e4df0d866": {
      "model_module": "@jupyter-widgets/base",
      "model_module_version": "1.2.0",
      "model_name": "LayoutModel",
      "state": {}
     },
     "63302df7da3248fda90131099b5020dc": {
      "model_module": "@jupyter-widgets/base",
      "model_module_version": "1.2.0",
      "model_name": "LayoutModel",
      "state": {}
     },
     "63cda32415b746a9b637a7290e576321": {
      "model_module": "@jupyter-widgets/base",
      "model_module_version": "1.2.0",
      "model_name": "LayoutModel",
      "state": {}
     },
     "65a87719ad2e4f2ebd067d03809caec5": {
      "model_module": "@jupyter-widgets/base",
      "model_module_version": "1.2.0",
      "model_name": "LayoutModel",
      "state": {}
     },
     "6b0a5981274c4829b0f043e017ce4fd4": {
      "model_module": "jupyter-matplotlib",
      "model_module_version": "^0.9.0",
      "model_name": "ToolbarModel",
      "state": {
       "layout": "IPY_MODEL_0e049601f129497d976a64cdf0fb68f7",
       "toolitems": [
        [
         "Home",
         "Reset original view",
         "home",
         "home"
        ],
        [
         "Back",
         "Back to previous view",
         "arrow-left",
         "back"
        ],
        [
         "Forward",
         "Forward to next view",
         "arrow-right",
         "forward"
        ],
        [
         "Pan",
         "Left button pans, Right button zooms\nx/y fixes axis, CTRL fixes aspect",
         "arrows",
         "pan"
        ],
        [
         "Zoom",
         "Zoom to rectangle\nx/y fixes axis",
         "square-o",
         "zoom"
        ],
        [
         "Download",
         "Download plot",
         "floppy-o",
         "save_figure"
        ]
       ]
      }
     },
     "6c545b2b526c4d7883e20c6b1d622c8d": {
      "model_module": "jupyter-matplotlib",
      "model_module_version": "^0.9.0",
      "model_name": "ToolbarModel",
      "state": {
       "layout": "IPY_MODEL_04fe4c5d82ad42069ec6d69096510fbe",
       "toolitems": [
        [
         "Home",
         "Reset original view",
         "home",
         "home"
        ],
        [
         "Back",
         "Back to previous view",
         "arrow-left",
         "back"
        ],
        [
         "Forward",
         "Forward to next view",
         "arrow-right",
         "forward"
        ],
        [
         "Pan",
         "Left button pans, Right button zooms\nx/y fixes axis, CTRL fixes aspect",
         "arrows",
         "pan"
        ],
        [
         "Zoom",
         "Zoom to rectangle\nx/y fixes axis",
         "square-o",
         "zoom"
        ],
        [
         "Download",
         "Download plot",
         "floppy-o",
         "save_figure"
        ]
       ]
      }
     },
     "6dff0bea278847aeb64ba99b30af34f5": {
      "model_module": "jupyter-matplotlib",
      "model_module_version": "^0.9.0",
      "model_name": "ToolbarModel",
      "state": {
       "layout": "IPY_MODEL_fa01166f8b8f4d37b76c069981afc315",
       "toolitems": [
        [
         "Home",
         "Reset original view",
         "home",
         "home"
        ],
        [
         "Back",
         "Back to previous view",
         "arrow-left",
         "back"
        ],
        [
         "Forward",
         "Forward to next view",
         "arrow-right",
         "forward"
        ],
        [
         "Pan",
         "Left button pans, Right button zooms\nx/y fixes axis, CTRL fixes aspect",
         "arrows",
         "pan"
        ],
        [
         "Zoom",
         "Zoom to rectangle\nx/y fixes axis",
         "square-o",
         "zoom"
        ],
        [
         "Download",
         "Download plot",
         "floppy-o",
         "save_figure"
        ]
       ]
      }
     },
     "6e852a847f944db8a7614d32f151f498": {
      "model_module": "@jupyter-widgets/base",
      "model_module_version": "1.2.0",
      "model_name": "LayoutModel",
      "state": {}
     },
     "75a33e720daf450fb745d34329765dd2": {
      "model_module": "@jupyter-widgets/base",
      "model_module_version": "1.2.0",
      "model_name": "LayoutModel",
      "state": {}
     },
     "79c41afae3c7442f81536cfa80de4b02": {
      "model_module": "jupyter-matplotlib",
      "model_module_version": "^0.9.0",
      "model_name": "ToolbarModel",
      "state": {
       "layout": "IPY_MODEL_50cba90e9e554b6fa64ea019a75fdc3a",
       "toolitems": [
        [
         "Home",
         "Reset original view",
         "home",
         "home"
        ],
        [
         "Back",
         "Back to previous view",
         "arrow-left",
         "back"
        ],
        [
         "Forward",
         "Forward to next view",
         "arrow-right",
         "forward"
        ],
        [
         "Pan",
         "Left button pans, Right button zooms\nx/y fixes axis, CTRL fixes aspect",
         "arrows",
         "pan"
        ],
        [
         "Zoom",
         "Zoom to rectangle\nx/y fixes axis",
         "square-o",
         "zoom"
        ],
        [
         "Download",
         "Download plot",
         "floppy-o",
         "save_figure"
        ]
       ]
      }
     },
     "7c0ae670b1ea43afb49458377a9813ab": {
      "model_module": "@jupyter-widgets/base",
      "model_module_version": "1.2.0",
      "model_name": "LayoutModel",
      "state": {}
     },
     "7dde80118ec243f8b3dd08955ccbd9d8": {
      "model_module": "@jupyter-widgets/base",
      "model_module_version": "1.2.0",
      "model_name": "LayoutModel",
      "state": {}
     },
     "8065d1926a9a4274867217484e014009": {
      "model_module": "@jupyter-widgets/base",
      "model_module_version": "1.2.0",
      "model_name": "LayoutModel",
      "state": {}
     },
     "86a1ad2a31f14ffb8c6fa013824461bc": {
      "model_module": "@jupyter-widgets/base",
      "model_module_version": "1.2.0",
      "model_name": "LayoutModel",
      "state": {}
     },
     "8888a7ea3a954442940527dff8e81d62": {
      "model_module": "jupyter-matplotlib",
      "model_module_version": "^0.9.0",
      "model_name": "ToolbarModel",
      "state": {
       "layout": "IPY_MODEL_63302df7da3248fda90131099b5020dc",
       "toolitems": [
        [
         "Home",
         "Reset original view",
         "home",
         "home"
        ],
        [
         "Back",
         "Back to previous view",
         "arrow-left",
         "back"
        ],
        [
         "Forward",
         "Forward to next view",
         "arrow-right",
         "forward"
        ],
        [
         "Pan",
         "Left button pans, Right button zooms\nx/y fixes axis, CTRL fixes aspect",
         "arrows",
         "pan"
        ],
        [
         "Zoom",
         "Zoom to rectangle\nx/y fixes axis",
         "square-o",
         "zoom"
        ],
        [
         "Download",
         "Download plot",
         "floppy-o",
         "save_figure"
        ]
       ]
      }
     },
     "89570111023f4468a8bbb2d47a0a2de8": {
      "model_module": "@jupyter-widgets/base",
      "model_module_version": "1.2.0",
      "model_name": "LayoutModel",
      "state": {}
     },
     "89f9c3f9326045298742fbdf02781633": {
      "model_module": "@jupyter-widgets/base",
      "model_module_version": "1.2.0",
      "model_name": "LayoutModel",
      "state": {}
     },
     "8f096ce553034f6e920c4858a0d4d903": {
      "model_module": "@jupyter-widgets/base",
      "model_module_version": "1.2.0",
      "model_name": "LayoutModel",
      "state": {}
     },
     "8f45850ae99c40409906c0646447a047": {
      "model_module": "@jupyter-widgets/base",
      "model_module_version": "1.2.0",
      "model_name": "LayoutModel",
      "state": {}
     },
     "90aa02022b0a490da7261171a7756b7f": {
      "model_module": "@jupyter-widgets/base",
      "model_module_version": "1.2.0",
      "model_name": "LayoutModel",
      "state": {}
     },
     "90bca5cb8b3a4bd1af9c2fb8fad2fdc6": {
      "model_module": "@jupyter-widgets/base",
      "model_module_version": "1.2.0",
      "model_name": "LayoutModel",
      "state": {}
     },
     "953c8f13ce3a404996f2dc1469f01e52": {
      "model_module": "jupyter-matplotlib",
      "model_module_version": "^0.9.0",
      "model_name": "ToolbarModel",
      "state": {
       "layout": "IPY_MODEL_a88362fbe6694b68a24012ce39365663",
       "toolitems": [
        [
         "Home",
         "Reset original view",
         "home",
         "home"
        ],
        [
         "Back",
         "Back to previous view",
         "arrow-left",
         "back"
        ],
        [
         "Forward",
         "Forward to next view",
         "arrow-right",
         "forward"
        ],
        [
         "Pan",
         "Left button pans, Right button zooms\nx/y fixes axis, CTRL fixes aspect",
         "arrows",
         "pan"
        ],
        [
         "Zoom",
         "Zoom to rectangle\nx/y fixes axis",
         "square-o",
         "zoom"
        ],
        [
         "Download",
         "Download plot",
         "floppy-o",
         "save_figure"
        ]
       ]
      }
     },
     "97cfeafc28674977b71e469d13fbd985": {
      "model_module": "@jupyter-widgets/base",
      "model_module_version": "1.2.0",
      "model_name": "LayoutModel",
      "state": {}
     },
     "98dada39ebdf46c188e126aeccab32d2": {
      "model_module": "@jupyter-widgets/base",
      "model_module_version": "1.2.0",
      "model_name": "LayoutModel",
      "state": {}
     },
     "98e7c38f873e4da1aeb25059a5b964fb": {
      "model_module": "jupyter-matplotlib",
      "model_module_version": "^0.9.0",
      "model_name": "ToolbarModel",
      "state": {
       "layout": "IPY_MODEL_3470c966c9fc4fedba168fb12fb6828b",
       "toolitems": [
        [
         "Home",
         "Reset original view",
         "home",
         "home"
        ],
        [
         "Back",
         "Back to previous view",
         "arrow-left",
         "back"
        ],
        [
         "Forward",
         "Forward to next view",
         "arrow-right",
         "forward"
        ],
        [
         "Pan",
         "Left button pans, Right button zooms\nx/y fixes axis, CTRL fixes aspect",
         "arrows",
         "pan"
        ],
        [
         "Zoom",
         "Zoom to rectangle\nx/y fixes axis",
         "square-o",
         "zoom"
        ],
        [
         "Download",
         "Download plot",
         "floppy-o",
         "save_figure"
        ]
       ]
      }
     },
     "998454a79d6642519477374cdf47fc86": {
      "model_module": "jupyter-matplotlib",
      "model_module_version": "^0.9.0",
      "model_name": "ToolbarModel",
      "state": {
       "layout": "IPY_MODEL_ccc7e3a234914b7f996f5b406437e7fa",
       "toolitems": [
        [
         "Home",
         "Reset original view",
         "home",
         "home"
        ],
        [
         "Back",
         "Back to previous view",
         "arrow-left",
         "back"
        ],
        [
         "Forward",
         "Forward to next view",
         "arrow-right",
         "forward"
        ],
        [
         "Pan",
         "Left button pans, Right button zooms\nx/y fixes axis, CTRL fixes aspect",
         "arrows",
         "pan"
        ],
        [
         "Zoom",
         "Zoom to rectangle\nx/y fixes axis",
         "square-o",
         "zoom"
        ],
        [
         "Download",
         "Download plot",
         "floppy-o",
         "save_figure"
        ]
       ]
      }
     },
     "9aa44135ffc749a9820db63e66c2c05a": {
      "model_module": "@jupyter-widgets/base",
      "model_module_version": "1.2.0",
      "model_name": "LayoutModel",
      "state": {}
     },
     "9fcefce2636846f19cf13a7d22bec208": {
      "model_module": "@jupyter-widgets/base",
      "model_module_version": "1.2.0",
      "model_name": "LayoutModel",
      "state": {}
     },
     "a240f422133f4181bcc85678dd8b44f3": {
      "model_module": "@jupyter-widgets/base",
      "model_module_version": "1.2.0",
      "model_name": "LayoutModel",
      "state": {}
     },
     "a42109d999cd498a8423fcb5c5a5ec43": {
      "model_module": "@jupyter-widgets/base",
      "model_module_version": "1.2.0",
      "model_name": "LayoutModel",
      "state": {}
     },
     "a47e2793699c4c37b5fcb06b6eb4a66c": {
      "model_module": "@jupyter-widgets/base",
      "model_module_version": "1.2.0",
      "model_name": "LayoutModel",
      "state": {}
     },
     "a88362fbe6694b68a24012ce39365663": {
      "model_module": "@jupyter-widgets/base",
      "model_module_version": "1.2.0",
      "model_name": "LayoutModel",
      "state": {}
     },
     "a9af654740dd4275a29f3e8a76c368cb": {
      "model_module": "@jupyter-widgets/base",
      "model_module_version": "1.2.0",
      "model_name": "LayoutModel",
      "state": {}
     },
     "aa88d094fd6f412882103cb7ceda0113": {
      "model_module": "@jupyter-widgets/base",
      "model_module_version": "1.2.0",
      "model_name": "LayoutModel",
      "state": {}
     },
     "aac974c1e34c42959c14fb5ad210af6d": {
      "model_module": "@jupyter-widgets/base",
      "model_module_version": "1.2.0",
      "model_name": "LayoutModel",
      "state": {}
     },
     "abbc2c52cc7745449715cf5e1fb69bcc": {
      "model_module": "@jupyter-widgets/base",
      "model_module_version": "1.2.0",
      "model_name": "LayoutModel",
      "state": {}
     },
     "abbc6e1fef2941d3b0ae714eef197e07": {
      "model_module": "@jupyter-widgets/base",
      "model_module_version": "1.2.0",
      "model_name": "LayoutModel",
      "state": {}
     },
     "ade5df68f6394faa8107f7b1745b8874": {
      "model_module": "jupyter-matplotlib",
      "model_module_version": "^0.9.0",
      "model_name": "ToolbarModel",
      "state": {
       "layout": "IPY_MODEL_508f94589bff4235973bb7e9ece5fde4",
       "toolitems": [
        [
         "Home",
         "Reset original view",
         "home",
         "home"
        ],
        [
         "Back",
         "Back to previous view",
         "arrow-left",
         "back"
        ],
        [
         "Forward",
         "Forward to next view",
         "arrow-right",
         "forward"
        ],
        [
         "Pan",
         "Left button pans, Right button zooms\nx/y fixes axis, CTRL fixes aspect",
         "arrows",
         "pan"
        ],
        [
         "Zoom",
         "Zoom to rectangle\nx/y fixes axis",
         "square-o",
         "zoom"
        ],
        [
         "Download",
         "Download plot",
         "floppy-o",
         "save_figure"
        ]
       ]
      }
     },
     "b077c681c96f48579a2d123cce3598a4": {
      "model_module": "@jupyter-widgets/base",
      "model_module_version": "1.2.0",
      "model_name": "LayoutModel",
      "state": {}
     },
     "b110f470c700484295d83fc8a2291834": {
      "model_module": "@jupyter-widgets/base",
      "model_module_version": "1.2.0",
      "model_name": "LayoutModel",
      "state": {}
     },
     "b13977efea5a42f0b04a8b334e5912c6": {
      "model_module": "jupyter-matplotlib",
      "model_module_version": "^0.9.0",
      "model_name": "ToolbarModel",
      "state": {
       "layout": "IPY_MODEL_54c34d565a4e4e1da4f1289aaa8b6914",
       "toolitems": [
        [
         "Home",
         "Reset original view",
         "home",
         "home"
        ],
        [
         "Back",
         "Back to previous view",
         "arrow-left",
         "back"
        ],
        [
         "Forward",
         "Forward to next view",
         "arrow-right",
         "forward"
        ],
        [
         "Pan",
         "Left button pans, Right button zooms\nx/y fixes axis, CTRL fixes aspect",
         "arrows",
         "pan"
        ],
        [
         "Zoom",
         "Zoom to rectangle\nx/y fixes axis",
         "square-o",
         "zoom"
        ],
        [
         "Download",
         "Download plot",
         "floppy-o",
         "save_figure"
        ]
       ]
      }
     },
     "b17a1167aeba4d7bb84316768f22db25": {
      "model_module": "@jupyter-widgets/base",
      "model_module_version": "1.2.0",
      "model_name": "LayoutModel",
      "state": {}
     },
     "b356621a28c746a090a4a9c75feb4053": {
      "model_module": "@jupyter-widgets/base",
      "model_module_version": "1.2.0",
      "model_name": "LayoutModel",
      "state": {}
     },
     "b4dad403c3974eff8c60dca49ff1b39b": {
      "model_module": "@jupyter-widgets/base",
      "model_module_version": "1.2.0",
      "model_name": "LayoutModel",
      "state": {}
     },
     "ba1c6b6a42294b8883bf48627a2cf1c8": {
      "model_module": "@jupyter-widgets/base",
      "model_module_version": "1.2.0",
      "model_name": "LayoutModel",
      "state": {}
     },
     "bede564686cb4b6a901f74a67f279e1a": {
      "model_module": "@jupyter-widgets/base",
      "model_module_version": "1.2.0",
      "model_name": "LayoutModel",
      "state": {}
     },
     "c0f42e15555b4911a4bd46be1872c769": {
      "model_module": "jupyter-matplotlib",
      "model_module_version": "^0.9.0",
      "model_name": "ToolbarModel",
      "state": {
       "layout": "IPY_MODEL_63cda32415b746a9b637a7290e576321",
       "toolitems": [
        [
         "Home",
         "Reset original view",
         "home",
         "home"
        ],
        [
         "Back",
         "Back to previous view",
         "arrow-left",
         "back"
        ],
        [
         "Forward",
         "Forward to next view",
         "arrow-right",
         "forward"
        ],
        [
         "Pan",
         "Left button pans, Right button zooms\nx/y fixes axis, CTRL fixes aspect",
         "arrows",
         "pan"
        ],
        [
         "Zoom",
         "Zoom to rectangle\nx/y fixes axis",
         "square-o",
         "zoom"
        ],
        [
         "Download",
         "Download plot",
         "floppy-o",
         "save_figure"
        ]
       ]
      }
     },
     "c3f2a55bf7884e0ca21f3b8bf4eb3386": {
      "model_module": "jupyter-matplotlib",
      "model_module_version": "^0.9.0",
      "model_name": "ToolbarModel",
      "state": {
       "layout": "IPY_MODEL_df11fd48420e453e8449daa1a701c0e3",
       "toolitems": [
        [
         "Home",
         "Reset original view",
         "home",
         "home"
        ],
        [
         "Back",
         "Back to previous view",
         "arrow-left",
         "back"
        ],
        [
         "Forward",
         "Forward to next view",
         "arrow-right",
         "forward"
        ],
        [
         "Pan",
         "Left button pans, Right button zooms\nx/y fixes axis, CTRL fixes aspect",
         "arrows",
         "pan"
        ],
        [
         "Zoom",
         "Zoom to rectangle\nx/y fixes axis",
         "square-o",
         "zoom"
        ],
        [
         "Download",
         "Download plot",
         "floppy-o",
         "save_figure"
        ]
       ]
      }
     },
     "c4c96b1044ed4cc595fea3879e20b485": {
      "model_module": "@jupyter-widgets/base",
      "model_module_version": "1.2.0",
      "model_name": "LayoutModel",
      "state": {}
     },
     "c9f98a150d3c46e4a4ab63a9258c2637": {
      "model_module": "jupyter-matplotlib",
      "model_module_version": "^0.9.0",
      "model_name": "ToolbarModel",
      "state": {
       "layout": "IPY_MODEL_bede564686cb4b6a901f74a67f279e1a",
       "toolitems": [
        [
         "Home",
         "Reset original view",
         "home",
         "home"
        ],
        [
         "Back",
         "Back to previous view",
         "arrow-left",
         "back"
        ],
        [
         "Forward",
         "Forward to next view",
         "arrow-right",
         "forward"
        ],
        [
         "Pan",
         "Left button pans, Right button zooms\nx/y fixes axis, CTRL fixes aspect",
         "arrows",
         "pan"
        ],
        [
         "Zoom",
         "Zoom to rectangle\nx/y fixes axis",
         "square-o",
         "zoom"
        ],
        [
         "Download",
         "Download plot",
         "floppy-o",
         "save_figure"
        ]
       ]
      }
     },
     "ccc7e3a234914b7f996f5b406437e7fa": {
      "model_module": "@jupyter-widgets/base",
      "model_module_version": "1.2.0",
      "model_name": "LayoutModel",
      "state": {}
     },
     "cccab8a6fc2d4967a4cb97cba5d93af8": {
      "model_module": "@jupyter-widgets/base",
      "model_module_version": "1.2.0",
      "model_name": "LayoutModel",
      "state": {}
     },
     "cd92e002a53f430dbe7e6b4e585b75c8": {
      "model_module": "jupyter-matplotlib",
      "model_module_version": "^0.9.0",
      "model_name": "ToolbarModel",
      "state": {
       "layout": "IPY_MODEL_ec5969c76e774dd983305824defb7a22",
       "toolitems": [
        [
         "Home",
         "Reset original view",
         "home",
         "home"
        ],
        [
         "Back",
         "Back to previous view",
         "arrow-left",
         "back"
        ],
        [
         "Forward",
         "Forward to next view",
         "arrow-right",
         "forward"
        ],
        [
         "Pan",
         "Left button pans, Right button zooms\nx/y fixes axis, CTRL fixes aspect",
         "arrows",
         "pan"
        ],
        [
         "Zoom",
         "Zoom to rectangle\nx/y fixes axis",
         "square-o",
         "zoom"
        ],
        [
         "Download",
         "Download plot",
         "floppy-o",
         "save_figure"
        ]
       ]
      }
     },
     "d3706da5ac0242f6ab39131c8082c865": {
      "model_module": "@jupyter-widgets/base",
      "model_module_version": "1.2.0",
      "model_name": "LayoutModel",
      "state": {}
     },
     "d38dfe56529148a587745748b659ab5f": {
      "model_module": "@jupyter-widgets/base",
      "model_module_version": "1.2.0",
      "model_name": "LayoutModel",
      "state": {}
     },
     "d3fa6231198c4be6a726afb4a2c56aaa": {
      "model_module": "@jupyter-widgets/base",
      "model_module_version": "1.2.0",
      "model_name": "LayoutModel",
      "state": {}
     },
     "d6390e2e55c842e991103a61eeaad0df": {
      "model_module": "@jupyter-widgets/base",
      "model_module_version": "1.2.0",
      "model_name": "LayoutModel",
      "state": {}
     },
     "dac7101c1dff46b89dcabe0c4137b8b9": {
      "model_module": "@jupyter-widgets/base",
      "model_module_version": "1.2.0",
      "model_name": "LayoutModel",
      "state": {}
     },
     "df11fd48420e453e8449daa1a701c0e3": {
      "model_module": "@jupyter-widgets/base",
      "model_module_version": "1.2.0",
      "model_name": "LayoutModel",
      "state": {}
     },
     "df5428c56f6d45d4a994061b04df4908": {
      "model_module": "@jupyter-widgets/base",
      "model_module_version": "1.2.0",
      "model_name": "LayoutModel",
      "state": {}
     },
     "e1af39c98efd4eae98c3389647419bd4": {
      "model_module": "jupyter-matplotlib",
      "model_module_version": "^0.9.0",
      "model_name": "ToolbarModel",
      "state": {
       "layout": "IPY_MODEL_df5428c56f6d45d4a994061b04df4908",
       "toolitems": [
        [
         "Home",
         "Reset original view",
         "home",
         "home"
        ],
        [
         "Back",
         "Back to previous view",
         "arrow-left",
         "back"
        ],
        [
         "Forward",
         "Forward to next view",
         "arrow-right",
         "forward"
        ],
        [
         "Pan",
         "Left button pans, Right button zooms\nx/y fixes axis, CTRL fixes aspect",
         "arrows",
         "pan"
        ],
        [
         "Zoom",
         "Zoom to rectangle\nx/y fixes axis",
         "square-o",
         "zoom"
        ],
        [
         "Download",
         "Download plot",
         "floppy-o",
         "save_figure"
        ]
       ]
      }
     },
     "e4be745b45b247e3a92a27e0667f6d07": {
      "model_module": "@jupyter-widgets/base",
      "model_module_version": "1.2.0",
      "model_name": "LayoutModel",
      "state": {}
     },
     "e6f106e2671449fab06a6ea4f44f4265": {
      "model_module": "@jupyter-widgets/base",
      "model_module_version": "1.2.0",
      "model_name": "LayoutModel",
      "state": {}
     },
     "e87d9427a5364e87a5835211ba106225": {
      "model_module": "jupyter-matplotlib",
      "model_module_version": "^0.9.0",
      "model_name": "ToolbarModel",
      "state": {
       "layout": "IPY_MODEL_abbc2c52cc7745449715cf5e1fb69bcc",
       "toolitems": [
        [
         "Home",
         "Reset original view",
         "home",
         "home"
        ],
        [
         "Back",
         "Back to previous view",
         "arrow-left",
         "back"
        ],
        [
         "Forward",
         "Forward to next view",
         "arrow-right",
         "forward"
        ],
        [
         "Pan",
         "Left button pans, Right button zooms\nx/y fixes axis, CTRL fixes aspect",
         "arrows",
         "pan"
        ],
        [
         "Zoom",
         "Zoom to rectangle\nx/y fixes axis",
         "square-o",
         "zoom"
        ],
        [
         "Download",
         "Download plot",
         "floppy-o",
         "save_figure"
        ]
       ]
      }
     },
     "ec5969c76e774dd983305824defb7a22": {
      "model_module": "@jupyter-widgets/base",
      "model_module_version": "1.2.0",
      "model_name": "LayoutModel",
      "state": {}
     },
     "eed97b32cb184d289fd5af6b6d2cb111": {
      "model_module": "@jupyter-widgets/base",
      "model_module_version": "1.2.0",
      "model_name": "LayoutModel",
      "state": {}
     },
     "efac6807b0a7408c9daf6fbcac3e339d": {
      "model_module": "@jupyter-widgets/base",
      "model_module_version": "1.2.0",
      "model_name": "LayoutModel",
      "state": {}
     },
     "f152065fa1ef460f94b5b31467abbf04": {
      "model_module": "jupyter-matplotlib",
      "model_module_version": "^0.9.0",
      "model_name": "ToolbarModel",
      "state": {
       "layout": "IPY_MODEL_75a33e720daf450fb745d34329765dd2",
       "toolitems": [
        [
         "Home",
         "Reset original view",
         "home",
         "home"
        ],
        [
         "Back",
         "Back to previous view",
         "arrow-left",
         "back"
        ],
        [
         "Forward",
         "Forward to next view",
         "arrow-right",
         "forward"
        ],
        [
         "Pan",
         "Left button pans, Right button zooms\nx/y fixes axis, CTRL fixes aspect",
         "arrows",
         "pan"
        ],
        [
         "Zoom",
         "Zoom to rectangle\nx/y fixes axis",
         "square-o",
         "zoom"
        ],
        [
         "Download",
         "Download plot",
         "floppy-o",
         "save_figure"
        ]
       ]
      }
     },
     "f2242631a98b4814baebfbdad4c21942": {
      "model_module": "jupyter-matplotlib",
      "model_module_version": "^0.9.0",
      "model_name": "ToolbarModel",
      "state": {
       "layout": "IPY_MODEL_2e1d6ea99c554f6bb4ff89e62ae251b1",
       "toolitems": [
        [
         "Home",
         "Reset original view",
         "home",
         "home"
        ],
        [
         "Back",
         "Back to previous view",
         "arrow-left",
         "back"
        ],
        [
         "Forward",
         "Forward to next view",
         "arrow-right",
         "forward"
        ],
        [
         "Pan",
         "Left button pans, Right button zooms\nx/y fixes axis, CTRL fixes aspect",
         "arrows",
         "pan"
        ],
        [
         "Zoom",
         "Zoom to rectangle\nx/y fixes axis",
         "square-o",
         "zoom"
        ],
        [
         "Download",
         "Download plot",
         "floppy-o",
         "save_figure"
        ]
       ]
      }
     },
     "f42d468cc3ef409ab5c96a5abfbf1825": {
      "model_module": "jupyter-matplotlib",
      "model_module_version": "^0.9.0",
      "model_name": "ToolbarModel",
      "state": {
       "layout": "IPY_MODEL_8065d1926a9a4274867217484e014009",
       "toolitems": [
        [
         "Home",
         "Reset original view",
         "home",
         "home"
        ],
        [
         "Back",
         "Back to previous view",
         "arrow-left",
         "back"
        ],
        [
         "Forward",
         "Forward to next view",
         "arrow-right",
         "forward"
        ],
        [
         "Pan",
         "Left button pans, Right button zooms\nx/y fixes axis, CTRL fixes aspect",
         "arrows",
         "pan"
        ],
        [
         "Zoom",
         "Zoom to rectangle\nx/y fixes axis",
         "square-o",
         "zoom"
        ],
        [
         "Download",
         "Download plot",
         "floppy-o",
         "save_figure"
        ]
       ]
      }
     },
     "f8a329b92e154cf297caac4afb3db626": {
      "model_module": "jupyter-matplotlib",
      "model_module_version": "^0.9.0",
      "model_name": "ToolbarModel",
      "state": {
       "layout": "IPY_MODEL_b4dad403c3974eff8c60dca49ff1b39b",
       "toolitems": [
        [
         "Home",
         "Reset original view",
         "home",
         "home"
        ],
        [
         "Back",
         "Back to previous view",
         "arrow-left",
         "back"
        ],
        [
         "Forward",
         "Forward to next view",
         "arrow-right",
         "forward"
        ],
        [
         "Pan",
         "Left button pans, Right button zooms\nx/y fixes axis, CTRL fixes aspect",
         "arrows",
         "pan"
        ],
        [
         "Zoom",
         "Zoom to rectangle\nx/y fixes axis",
         "square-o",
         "zoom"
        ],
        [
         "Download",
         "Download plot",
         "floppy-o",
         "save_figure"
        ]
       ]
      }
     },
     "fa01166f8b8f4d37b76c069981afc315": {
      "model_module": "@jupyter-widgets/base",
      "model_module_version": "1.2.0",
      "model_name": "LayoutModel",
      "state": {}
     },
     "fd0458e2372043eaa20420285c457a17": {
      "model_module": "@jupyter-widgets/base",
      "model_module_version": "1.2.0",
      "model_name": "LayoutModel",
      "state": {}
     }
    },
    "version_major": 2,
    "version_minor": 0
   }
  }
 },
 "nbformat": 4,
 "nbformat_minor": 5
}
